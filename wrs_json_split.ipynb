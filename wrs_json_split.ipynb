{
 "cells": [
  {
   "cell_type": "code",
   "execution_count": 1,
   "metadata": {},
   "outputs": [],
   "source": [
    "import os\n",
    "import json\n",
    "import cv2\n",
    "\n",
    "path = os.getcwd()\n",
    "print(path)\n",
    "datasetList = os.listdir(os.path.join(path, \"dataset\"))\n",
    "print(datasetList)\n",
    "annotationsList = os.listdir(os.path.join(path, \"annotations\"))\n",
    "print(annotationsList)\n",
    "\n",
    "jsonDataList = []\n",
    "jsonData = {}\n",
    "datasetList.sort()\n",
    "annotationsList.sort(key=int)\n",
    "\n",
    "# from 0 ~ 199 train\n",
    "# from 200 ~ 250 test\n",
    "count = 0\n",
    "for dataset in datasetList:\n",
    "    count += 1\n",
    "    img_url = dataset\n",
    "    fileName = dataset.split(\".\")[0]\n",
    "            \n",
    "    annotations = []\n",
    "    bboxes = []\n",
    "    for annotation in annotationsList:\n",
    "        antn = \"_\".join(annotation.split(\"_\", 2)[:2])\n",
    "        antnRest = \"_\".join(annotation.split(\"_\", 2)[2:])\n",
    "        if len(annotations) == 12:\n",
    "            break\n",
    "        elif fileName == antn:\n",
    "            annotations.append(int(antnRest)+1)\n",
    "            f = open(os.path.join(\"./annotations/\", annotation), \"r\")\n",
    "            bbox = f.read()[:-1]\n",
    "            bbox_split = bbox.split(\",\")\n",
    "            bbox_map = map(int, bbox_split)\n",
    "            bbox_ = list(bbox_map)\n",
    "            bboxes.append(bbox_)\n",
    "            f.close()\n",
    "        else:\n",
    "            continue\n",
    "            \n",
    "    image_url = os.path.join(path, \"dataset\", img_url)\n",
    "    img = cv2.imread(image_url)\n",
    "    height, width = img.shape[:2]\n",
    "    jsonData = {\n",
    "        \"gt_class\": annotations,\n",
    "        \"gt_bbox\": bboxes,\n",
    "        \"flipped\": False,\n",
    "        \"h\": height,\n",
    "        \"w\": width,\n",
    "        \"image_url\": image_url,\n",
    "        \"im_id\": count\n",
    "    }\n",
    "    jsonDataList.append(jsonData)\n",
    "    \n",
    "with open(\"temp.json\", \"w\") as write_file:\n",
    "    json.dump(jsonDataList, write_file)"
   ]
  },
  {
   "cell_type": "code",
   "execution_count": null,
   "metadata": {},
   "outputs": [],
   "source": []
  }
 ],
 "metadata": {
  "kernelspec": {
   "display_name": "Python 3",
   "language": "python",
   "name": "python3"
  },
  "language_info": {
   "codemirror_mode": {
    "name": "ipython",
    "version": 3
   },
   "file_extension": ".py",
   "mimetype": "text/x-python",
   "name": "python",
   "nbconvert_exporter": "python",
   "pygments_lexer": "ipython3",
   "version": "3.7.6"
  }
 },
 "nbformat": 4,
 "nbformat_minor": 4
}
